{
  "nbformat": 4,
  "nbformat_minor": 0,
  "metadata": {
    "colab": {
      "private_outputs": true,
      "provenance": [],
      "collapsed_sections": [
        "vncDsAP0Gaoa",
        "w6K7xa23Elo4",
        "mDgbUHAGgjLW",
        "-jK_YjpMpsJ2",
        "HAih1iBOpsJ2",
        "zVGeBEFhpsJ2",
        "bmKjuQ-FpsJ3",
        "Fze-IPXLpx6K",
        "7AN1z2sKpx6M",
        "9PIHJqyupx6M",
        "_-qAgymDpx6N",
        "Z-hykwinpx6N",
        "h_CCil-SKHpo",
        "cBFFvTBNJzUa",
        "HvGl1hHyA_VK",
        "KH5McJBi2d8v",
        "iW_Lq9qf2h6X",
        "-Kee-DAl2viO",
        "gCX9965dhzqZ",
        "gIfDvo9L0UH2"
      ],
      "include_colab_link": true
    },
    "kernelspec": {
      "name": "python3",
      "display_name": "Python 3"
    },
    "language_info": {
      "name": "python"
    }
  },
  "cells": [
    {
      "cell_type": "markdown",
      "metadata": {
        "id": "view-in-github",
        "colab_type": "text"
      },
      "source": [
        "<a href=\"https://colab.research.google.com/github/Nethra0503/Hotel_Booking_Data_Analysis_Project/blob/main/Zomato%5BRestaurant%20clustering%5D.ipynb\" target=\"_parent\"><img src=\"https://colab.research.google.com/assets/colab-badge.svg\" alt=\"Open In Colab\"/></a>"
      ]
    },
    {
      "cell_type": "markdown",
      "source": [
        "# **Project Name**    -  Zomato Data Analysis\n",
        "\n"
      ],
      "metadata": {
        "id": "vncDsAP0Gaoa"
      }
    },
    {
      "cell_type": "markdown",
      "source": [
        "##### **Project Type**    - EDA/Regression/Classification/Unsupervised\n",
        "##### **Contribution**    - Individual/Team\n",
        "##### **Team Member 1 -**\n",
        "##### **Team Member 2 -**\n",
        "##### **Team Member 3 -**\n",
        "##### **Team Member 4 -**"
      ],
      "metadata": {
        "id": "beRrZCGUAJYm"
      }
    },
    {
      "cell_type": "markdown",
      "source": [
        "# **Project Summary -**\n",
        "The Indian restaurant industry is growing rapidly, with customers increasingly opting for both dining out and food delivery services. With thousands of restaurants across various cities, finding the best dining options can be overwhelming for customers. Similarly, restaurants and food delivery platforms like Zomato need data-driven strategies to optimize their services, improve customer satisfaction, and enhance business performance.\n",
        "\n",
        "This project aims to analyze Zomato’s restaurant data using  key approach:\n",
        "\n",
        "Restaurant Clustering – Grouping restaurants into meaningful segments based on cuisine, pricing, ratings, and location.\n",
        "\n"
      ],
      "metadata": {
        "id": "FJNUwmbgGyua"
      }
    },
    {
      "cell_type": "markdown",
      "source": [
        "# **GitHub Link -**"
      ],
      "metadata": {
        "id": "w6K7xa23Elo4"
      }
    },
    {
      "cell_type": "markdown",
      "source": [
        "Provide your GitHub Link here."
      ],
      "metadata": {
        "id": "h1o69JH3Eqqn"
      }
    },
    {
      "cell_type": "markdown",
      "source": [
        "# **Problem Statement**\n"
      ],
      "metadata": {
        "id": "yQaldy8SH6Dl"
      }
    },
    {
      "cell_type": "markdown",
      "source": [
        "**Write Problem Statement Here.**\n",
        "With the rapid expansion of the restaurant industry in India, customers often struggle to find the best dining options that match their preferences and budget. Similarly, food delivery platforms like Zomato face challenges in categorizing restaurants effectively and optimizing pricing strategies for better customer satisfaction.\n",
        "\n",
        "This project aims to address the following key problems:\n",
        "\n",
        "Restaurant Clustering:\n",
        "\n",
        "How can we group restaurants based on key attributes such as cuisine type, price range, customer ratings, and location to improve restaurant discovery and business insights."
      ],
      "metadata": {
        "id": "DpeJGUA3kjGy"
      }
    },
    {
      "cell_type": "markdown",
      "source": [
        "# **General Guidelines** : -  "
      ],
      "metadata": {
        "id": "mDgbUHAGgjLW"
      }
    },
    {
      "cell_type": "markdown",
      "source": [
        "1.   Well-structured, formatted, and commented code is required.\n",
        "2.   Exception Handling, Production Grade Code & Deployment Ready Code will be a plus. Those students will be awarded some additional credits.\n",
        "     \n",
        "     The additional credits will have advantages over other students during Star Student selection.\n",
        "       \n",
        "             [ Note: - Deployment Ready Code is defined as, the whole .ipynb notebook should be executable in one go\n",
        "                       without a single error logged. ]\n",
        "\n",
        "3.   Each and every logic should have proper comments.\n",
        "4. You may add as many number of charts you want. Make Sure for each and every chart the following format should be answered.\n",
        "        \n",
        "\n",
        "```\n",
        "# Chart visualization code\n",
        "```\n",
        "            \n",
        "\n",
        "*   Why did you pick the specific chart?\n",
        "*   What is/are the insight(s) found from the chart?\n",
        "* Will the gained insights help creating a positive business impact?\n",
        "Are there any insights that lead to negative growth? Justify with specific reason.\n",
        "\n",
        "5. You have to create at least 15 logical & meaningful charts having important insights.\n",
        "\n",
        "\n",
        "[ Hints : - Do the Vizualization in  a structured way while following \"UBM\" Rule.\n",
        "\n",
        "U - Univariate Analysis,\n",
        "\n",
        "B - Bivariate Analysis (Numerical - Categorical, Numerical - Numerical, Categorical - Categorical)\n",
        "\n",
        "M - Multivariate Analysis\n",
        " ]\n",
        "\n",
        "\n",
        "\n",
        "\n",
        "\n",
        "6. You may add more ml algorithms for model creation. Make sure for each and every algorithm, the following format should be answered.\n",
        "\n",
        "\n",
        "*   Explain the ML Model used and it's performance using Evaluation metric Score Chart.\n",
        "\n",
        "\n",
        "*   Cross- Validation & Hyperparameter Tuning\n",
        "\n",
        "*   Have you seen any improvement? Note down the improvement with updates Evaluation metric Score Chart.\n",
        "\n",
        "*   Explain each evaluation metric's indication towards business and the business impact pf the ML model used.\n",
        "\n",
        "\n",
        "\n",
        "\n",
        "\n",
        "\n",
        "\n",
        "\n",
        "\n",
        "\n",
        "\n",
        "\n",
        "\n",
        "\n",
        "\n",
        "\n",
        "\n",
        "\n"
      ],
      "metadata": {
        "id": "ZrxVaUj-hHfC"
      }
    },
    {
      "cell_type": "markdown",
      "source": [
        "# ***Let's Begin !***"
      ],
      "metadata": {
        "id": "O_i_v8NEhb9l"
      }
    },
    {
      "cell_type": "markdown",
      "source": [
        "## ***1. Know Your Data***"
      ],
      "metadata": {
        "id": "HhfV-JJviCcP"
      }
    },
    {
      "cell_type": "markdown",
      "source": [
        "### Import Libraries"
      ],
      "metadata": {
        "id": "Y3lxredqlCYt"
      }
    },
    {
      "cell_type": "code",
      "source": [
        "# Import Libraries\n",
        "import pandas as pd\n",
        "import numpy as np\n",
        "import matplotlib.pyplot as plt\n",
        "import seaborn as sns"
      ],
      "metadata": {
        "id": "M8Vqi-pPk-HR"
      },
      "execution_count": null,
      "outputs": []
    },
    {
      "cell_type": "markdown",
      "source": [
        "### Dataset Loading"
      ],
      "metadata": {
        "id": "3RnN4peoiCZX"
      }
    },
    {
      "cell_type": "code",
      "source": [
        "# Load Dataset\n",
        "zom_review = pd.read_csv('/content/Zomato Restaurant reviews.csv')\n",
        "zom_review"
      ],
      "metadata": {
        "id": "4CkvbW_SlZ_R"
      },
      "execution_count": null,
      "outputs": []
    },
    {
      "cell_type": "code",
      "source": [
        "zom_res_names = pd.read_csv('/content/Zomato Restaurant names and Metadata.csv')\n",
        "zom_res_names"
      ],
      "metadata": {
        "id": "nk4GxQdMTs9x"
      },
      "execution_count": null,
      "outputs": []
    },
    {
      "cell_type": "markdown",
      "source": [
        "### Dataset First View"
      ],
      "metadata": {
        "id": "x71ZqKXriCWQ"
      }
    },
    {
      "cell_type": "code",
      "source": [
        "# Dataset First Look\n",
        "zom_review.head(5)"
      ],
      "metadata": {
        "id": "LWNFOSvLl09H"
      },
      "execution_count": null,
      "outputs": []
    },
    {
      "cell_type": "code",
      "source": [
        "zom_res_names.head(5)"
      ],
      "metadata": {
        "id": "nXuBqHEfU6KX"
      },
      "execution_count": null,
      "outputs": []
    },
    {
      "cell_type": "markdown",
      "source": [
        "### Dataset Rows & Columns count"
      ],
      "metadata": {
        "id": "7hBIi_osiCS2"
      }
    },
    {
      "cell_type": "code",
      "source": [
        "# Dataset Rows & Columns count\n",
        "print(list(zom_review.columns))"
      ],
      "metadata": {
        "id": "Kllu7SJgmLij"
      },
      "execution_count": null,
      "outputs": []
    },
    {
      "cell_type": "code",
      "source": [
        "print(list(zom_res_names.columns))"
      ],
      "metadata": {
        "id": "uP_j4ep5WmSn"
      },
      "execution_count": null,
      "outputs": []
    },
    {
      "cell_type": "markdown",
      "source": [
        "### Dataset Information"
      ],
      "metadata": {
        "id": "JlHwYmJAmNHm"
      }
    },
    {
      "cell_type": "code",
      "source": [
        "# Dataset Info of restaurant\n",
        "zom_res_names.info()"
      ],
      "metadata": {
        "id": "e9hRXRi6meOf"
      },
      "execution_count": null,
      "outputs": []
    },
    {
      "cell_type": "code",
      "source": [
        "# datset info of reviews\n",
        "zom_review.info()"
      ],
      "metadata": {
        "id": "1c8KrG6PzkPS"
      },
      "execution_count": null,
      "outputs": []
    },
    {
      "cell_type": "markdown",
      "source": [
        "#### Duplicate Values"
      ],
      "metadata": {
        "id": "35m5QtbWiB9F"
      }
    },
    {
      "cell_type": "code",
      "source": [
        "#  Duplicate Value Count of review datset\n",
        "zom_review.duplicated().sum()"
      ],
      "metadata": {
        "id": "1sLdpKYkmox0"
      },
      "execution_count": null,
      "outputs": []
    },
    {
      "cell_type": "code",
      "source": [
        "zom_review.drop_duplicates()"
      ],
      "metadata": {
        "id": "XV0pZh9f1ajx"
      },
      "execution_count": null,
      "outputs": []
    },
    {
      "cell_type": "code",
      "source": [
        "# duplicates in restaurant dataset\n",
        "zom_res_names.duplicated().sum()"
      ],
      "metadata": {
        "id": "el4Lme3V2Fra"
      },
      "execution_count": null,
      "outputs": []
    },
    {
      "cell_type": "markdown",
      "source": [
        "#### Missing Values/Null Values"
      ],
      "metadata": {
        "id": "PoPl-ycgm1ru"
      }
    },
    {
      "cell_type": "code",
      "source": [
        "# Missing Values/Null Values Count\n",
        "zom_review.isnull().sum()"
      ],
      "metadata": {
        "id": "GgHWkxvamxVg"
      },
      "execution_count": null,
      "outputs": []
    },
    {
      "cell_type": "code",
      "source": [
        "import missingno as msno"
      ],
      "metadata": {
        "id": "dDh4-miO4JL-"
      },
      "execution_count": null,
      "outputs": []
    },
    {
      "cell_type": "code",
      "source": [
        "# Visualizing the missing values\n",
        "msno.bar(zom_review)\n",
        "plt.show()"
      ],
      "metadata": {
        "id": "3q5wnI3om9sJ"
      },
      "execution_count": null,
      "outputs": []
    },
    {
      "cell_type": "code",
      "source": [
        "zom_review.dropna(subset=['Reviewer','Rating','Review','Metadata'],inplace=True)"
      ],
      "metadata": {
        "id": "pJgdMiuv9Gyu"
      },
      "execution_count": null,
      "outputs": []
    },
    {
      "cell_type": "code",
      "source": [
        "zom_review.isnull().sum()"
      ],
      "metadata": {
        "id": "ixqiYbd_982S"
      },
      "execution_count": null,
      "outputs": []
    },
    {
      "cell_type": "code",
      "source": [
        "zom_res_names.shape"
      ],
      "metadata": {
        "id": "-Ah8lPYk_9QY"
      },
      "execution_count": null,
      "outputs": []
    },
    {
      "cell_type": "code",
      "source": [
        "zom_res_names.isnull().sum()"
      ],
      "metadata": {
        "id": "Ckl0m_lk8uz5"
      },
      "execution_count": null,
      "outputs": []
    },
    {
      "cell_type": "code",
      "source": [
        "# viewing what type of values are found in collections\n",
        "zom_res_names['Collections'].value_counts()"
      ],
      "metadata": {
        "id": "YeaWOvxG-H6_"
      },
      "execution_count": null,
      "outputs": []
    },
    {
      "cell_type": "code",
      "source": [
        "zom_res_names.groupby('Cuisines')['Collections'].agg(lambda x:x.mode())"
      ],
      "metadata": {
        "id": "tbsfP2SgBlzU"
      },
      "execution_count": null,
      "outputs": []
    },
    {
      "cell_type": "code",
      "source": [
        "#By replacing null values with most common collections in each cuisines\n",
        "zom_res_names[\"Collections\"] = zom_res_names[\"Collections\"].fillna(\n",
        "    zom_res_names.groupby(\"Cuisines\")[\"Collections\"].transform(lambda x: x.mode()[0] if not x.mode().empty else \"Unknown\")\n",
        ")\n"
      ],
      "metadata": {
        "id": "kJN13zKEF6Uc"
      },
      "execution_count": null,
      "outputs": []
    },
    {
      "cell_type": "code",
      "source": [
        "zom_res_names['Collections'].isnull().sum()"
      ],
      "metadata": {
        "id": "J6jWno-WGBaE"
      },
      "execution_count": null,
      "outputs": []
    },
    {
      "cell_type": "markdown",
      "source": [
        "### What did you know about your dataset?"
      ],
      "metadata": {
        "id": "H0kj-8xxnORC"
      }
    },
    {
      "cell_type": "markdown",
      "source": [
        "Zomato reviews dataset contains variables that accounts for reviewer name,reviews and rating given to particular restaurant by the reviewer. On the otherhand zomato restaurant dataset enables us to understand the restaurant's cuisines and collection of food offered by each restaurants.\n",
        "\n"
      ],
      "metadata": {
        "id": "gfoNAAC-nUe_"
      }
    },
    {
      "cell_type": "markdown",
      "source": [
        "## ***2. Understanding Your Variables***"
      ],
      "metadata": {
        "id": "nA9Y7ga8ng1Z"
      }
    },
    {
      "cell_type": "code",
      "source": [
        "list(zom_res_names.columns)"
      ],
      "metadata": {
        "id": "yEo-qWXDI8O2"
      },
      "execution_count": null,
      "outputs": []
    },
    {
      "cell_type": "code",
      "source": [
        "list(zom_review.columns)"
      ],
      "metadata": {
        "id": "tj4glq_FJITJ"
      },
      "execution_count": null,
      "outputs": []
    },
    {
      "cell_type": "code",
      "source": [
        "# Dataset Describe\n",
        "zom_res_names.describe()"
      ],
      "metadata": {
        "id": "DnOaZdaE5Q5t"
      },
      "execution_count": null,
      "outputs": []
    },
    {
      "cell_type": "code",
      "source": [
        "zom_review.describe()"
      ],
      "metadata": {
        "id": "JKEHcNnOIsJY"
      },
      "execution_count": null,
      "outputs": []
    },
    {
      "cell_type": "code",
      "source": [
        "zom_review.dtypes"
      ],
      "metadata": {
        "id": "TSpye-kQJ3vG"
      },
      "execution_count": null,
      "outputs": []
    },
    {
      "cell_type": "code",
      "source": [
        "zom_res_names.dtypes"
      ],
      "metadata": {
        "id": "7p2TukR8J-EK"
      },
      "execution_count": null,
      "outputs": []
    },
    {
      "cell_type": "markdown",
      "source": [
        "### Variables Description"
      ],
      "metadata": {
        "id": "PBTbrJXOngz2"
      }
    },
    {
      "cell_type": "markdown",
      "source": [
        "# Review Dataset:\n",
        "1.Reviewer - Name of the reviwer\n",
        "\n",
        "2.Review - Review text\n",
        "\n",
        "3.Rating - Rating provided\n",
        "\n",
        "4.Metadata  - no of reviews and followers\n",
        "\n",
        "5.Time   - time of review\n",
        "\n",
        "6.Pictures - no of pictures posted with review\n",
        "\n",
        "\n"
      ],
      "metadata": {
        "id": "aJV4KIxSnxay"
      }
    },
    {
      "cell_type": "markdown",
      "source": [
        "# Restaurant Datset\n",
        "1.Name  -  name of the restaurant\n",
        "\n",
        "2.Cost -   per person estimated cost of dinning\n",
        "\n",
        "3.Collections -  tagging of restaurants with respect to zomato categories\n",
        "\n",
        "4.Cuisines  -  cuisines offered by restaurants\n",
        "\n",
        "5.Timings  -  restaurant timings\n",
        "\n"
      ],
      "metadata": {
        "id": "IV4-zyu0Prr9"
      }
    },
    {
      "cell_type": "markdown",
      "source": [
        "### Check Unique Values for each variable."
      ],
      "metadata": {
        "id": "u3PMJOP6ngxN"
      }
    },
    {
      "cell_type": "code",
      "source": [
        "selected = zom_review[[\"Reviewer\",\"Rating\",\"Restaurant\"]]\n",
        "unique_count = {col : zom_review[col].nunique() for col in selected.columns}\n",
        "print(unique_count)"
      ],
      "metadata": {
        "id": "jDzSCDL7UmUJ"
      },
      "execution_count": null,
      "outputs": []
    },
    {
      "cell_type": "code",
      "source": [
        "selected_columns = zom_res_names[[\"Collections\",\"Cuisines\",\"Name\"]]\n"
      ],
      "metadata": {
        "id": "IUMW0SjXaNQC"
      },
      "execution_count": null,
      "outputs": []
    },
    {
      "cell_type": "code",
      "source": [
        "unique_count = {col : zom_res_names[col].nunique() for col in selected_columns.columns}\n",
        "print(unique_count)"
      ],
      "metadata": {
        "id": "5QrkrIgLahgY"
      },
      "execution_count": null,
      "outputs": []
    },
    {
      "cell_type": "markdown",
      "source": [
        "## 3. ***Data Wrangling***"
      ],
      "metadata": {
        "id": "dauF4eBmngu3"
      }
    },
    {
      "cell_type": "markdown",
      "source": [
        "### Data Wrangling Code"
      ],
      "metadata": {
        "id": "bKJF3rekwFvQ"
      }
    },
    {
      "cell_type": "code",
      "source": [
        "zom_review.rename(columns={\"Restaurant\": \"Name\"}, inplace=True)\n"
      ],
      "metadata": {
        "id": "EfVKK2axjIu-"
      },
      "execution_count": null,
      "outputs": []
    },
    {
      "cell_type": "code",
      "source": [
        "zom_review.columns"
      ],
      "metadata": {
        "id": "u6BWGHRNjxhu"
      },
      "execution_count": null,
      "outputs": []
    },
    {
      "cell_type": "code",
      "source": [
        "# Write your code to make your dataset analysis ready.\n",
        "#merging datsets\n",
        "new_data = pd.merge(zom_res_names,zom_review,on=\"Name\")"
      ],
      "metadata": {
        "id": "wk-9a2fpoLcV"
      },
      "execution_count": null,
      "outputs": []
    },
    {
      "cell_type": "code",
      "source": [
        "new_data.columns"
      ],
      "metadata": {
        "id": "BpKXyPWtj5h_"
      },
      "execution_count": null,
      "outputs": []
    },
    {
      "cell_type": "code",
      "source": [
        "new_data.shape"
      ],
      "metadata": {
        "id": "oFtu5KTnkxbJ"
      },
      "execution_count": null,
      "outputs": []
    },
    {
      "cell_type": "code",
      "source": [
        "new_data.isnull().sum()"
      ],
      "metadata": {
        "id": "VwzHBLs0koA4"
      },
      "execution_count": null,
      "outputs": []
    },
    {
      "cell_type": "code",
      "source": [
        "new_data.dropna(axis=0,inplace=True)"
      ],
      "metadata": {
        "id": "2B6vmsTCmYPR"
      },
      "execution_count": null,
      "outputs": []
    },
    {
      "cell_type": "code",
      "source": [
        "new_data.isnull().sum()"
      ],
      "metadata": {
        "id": "1bnTu5GJmi10"
      },
      "execution_count": null,
      "outputs": []
    },
    {
      "cell_type": "code",
      "source": [
        "new_data.to_excel(\"Transformed_data.xlsx\")"
      ],
      "metadata": {
        "id": "t-mtE5Fmm260"
      },
      "execution_count": null,
      "outputs": []
    },
    {
      "cell_type": "code",
      "source": [
        "new_data.duplicated().sum()"
      ],
      "metadata": {
        "id": "xS4-IM-hqGol"
      },
      "execution_count": null,
      "outputs": []
    },
    {
      "cell_type": "markdown",
      "source": [
        "### What all manipulations have you done and insights you found?"
      ],
      "metadata": {
        "id": "MSa1f5Uengrz"
      }
    },
    {
      "cell_type": "markdown",
      "source": [
        "Duplicate values were removed from both datasets. The Zomato restaurant dataset contained 54 null values. Dropping these values would have created inconsistencies in the data. As a result, the values in the 'collections' column were replaced with the mode concerning each cuisine. The Zomato restaurant dataset had approximately 1% null values. Since dropping these values would not affect the analysis, they were removed"
      ],
      "metadata": {
        "id": "LbyXE7I1olp8"
      }
    },
    {
      "cell_type": "markdown",
      "source": [
        "## ***4. Data Vizualization, Storytelling & Experimenting with charts : Understand the relationships between variables***"
      ],
      "metadata": {
        "id": "GF8Ens_Soomf"
      }
    },
    {
      "cell_type": "code",
      "source": [
        "import pandas as pd\n",
        "import numpy as np\n",
        "import matplotlib.pyplot as plt\n",
        "import seaborn as sns"
      ],
      "metadata": {
        "id": "0NBi2LHrM43O"
      },
      "execution_count": null,
      "outputs": []
    },
    {
      "cell_type": "code",
      "source": [
        "new_data =pd.read_excel('/content/Transformed_data.xlsx')"
      ],
      "metadata": {
        "id": "vuTukIEjMjKc"
      },
      "execution_count": null,
      "outputs": []
    },
    {
      "cell_type": "code",
      "source": [
        "#view of new data\n",
        "new_data.head()\n"
      ],
      "metadata": {
        "id": "Y_VZFAjcj-jF"
      },
      "execution_count": null,
      "outputs": []
    },
    {
      "cell_type": "code",
      "source": [
        "new_data.dtypes"
      ],
      "metadata": {
        "id": "X-ZAixGporbg"
      },
      "execution_count": null,
      "outputs": []
    },
    {
      "cell_type": "code",
      "source": [
        "new_data['Cost']= new_data['Cost'].str.replace(',','').astype(int)"
      ],
      "metadata": {
        "id": "xiBXga3uo5Cd"
      },
      "execution_count": null,
      "outputs": []
    },
    {
      "cell_type": "code",
      "source": [
        "new_data['Cost'].dtype"
      ],
      "metadata": {
        "id": "sCnMp2MVp5qj"
      },
      "execution_count": null,
      "outputs": []
    },
    {
      "cell_type": "code",
      "source": [
        "mean_cost = new_data.groupby('Cuisines',as_index=False)['Cost'].mean()\n",
        "mean_cost"
      ],
      "metadata": {
        "id": "Y_KEBf0ZncdM"
      },
      "execution_count": null,
      "outputs": []
    },
    {
      "cell_type": "code",
      "source": [
        "mean_cost.sort_values(by='Cost',ascending=False)"
      ],
      "metadata": {
        "id": "X7URTTxC0yQE"
      },
      "execution_count": null,
      "outputs": []
    },
    {
      "cell_type": "markdown",
      "source": [
        "#### Chart - 1"
      ],
      "metadata": {
        "id": "0wOQAZs5pc--"
      }
    },
    {
      "cell_type": "code",
      "source": [
        "import plotly.express as px\n",
        "\n",
        "fig = px.treemap(mean_cost, path=['Cuisines'], values='Cost', color='Cost',\n",
        "                  color_continuous_scale='blues', title=\"Cost Distribution by Cuisine\")\n",
        "fig.show()\n"
      ],
      "metadata": {
        "id": "UuQrz5Sax5ht"
      },
      "execution_count": null,
      "outputs": []
    },
    {
      "cell_type": "markdown",
      "source": [
        "##### 1. Why did you pick the specific chart?"
      ],
      "metadata": {
        "id": "K5QZ13OEpz2H"
      }
    },
    {
      "cell_type": "markdown",
      "source": [
        "Treemap was performed to see the distribution of price across different cuisines.Since there are more categorical values visualization using treemap would give clear cut distribution of data."
      ],
      "metadata": {
        "id": "XESiWehPqBRc"
      }
    },
    {
      "cell_type": "markdown",
      "source": [
        "##### 2. What is/are the insight(s) found from the chart?"
      ],
      "metadata": {
        "id": "lQ7QKXXCp7Bj"
      }
    },
    {
      "cell_type": "markdown",
      "source": [
        "The combination of Italian,chinese and north indian contributes to high cost of about 2800 whereas street foods and arabian have least cost."
      ],
      "metadata": {
        "id": "C_j1G7yiqdRP"
      }
    },
    {
      "cell_type": "markdown",
      "source": [
        "##### 3. Will the gained insights help creating a positive business impact?\n",
        "The analysis shows that Italian, Chinese, and North Indian cuisines contribute to high costs (~2800), while Street Food and Arabian have the lowest costs. This insight can help businesses optimize menu pricing, marketing, and cost control. Premium cuisines can be priced strategically to maximize revenue, while affordable options can drive high-volume sales. Restaurants can use this data for targeted promotions, location-based expansion, and better supply chain management. Overall, these insights enable data-driven decisions for improved profitability and customer satisfaction.\n",
        "\n",
        "\n",
        "\n",
        "\n",
        "\n",
        "\n",
        "\n"
      ],
      "metadata": {
        "id": "448CDAPjqfQr"
      }
    },
    {
      "cell_type": "markdown",
      "source": [],
      "metadata": {
        "id": "3cspy4FjqxJW"
      }
    },
    {
      "cell_type": "markdown",
      "source": [
        "#### Chart - 2"
      ],
      "metadata": {
        "id": "KSlN3yHqYklG"
      }
    },
    {
      "cell_type": "code",
      "source": [
        "# Chart - 2 visualization code\n",
        "new_data['Collections'].value_counts()"
      ],
      "metadata": {
        "id": "R4YgtaqtYklH"
      },
      "execution_count": null,
      "outputs": []
    },
    {
      "cell_type": "code",
      "source": [
        "#converting both collection and name to string type to perform aggregation\n",
        "new_data['Name'] = new_data['Name'].astype(str)\n",
        "new_data['Collections'] = new_data['Collections'].astype(str)\n"
      ],
      "metadata": {
        "id": "2oYfOl3SPND6"
      },
      "execution_count": null,
      "outputs": []
    },
    {
      "cell_type": "code",
      "source": [
        "print(type(new_data['Collections']),type(new_data['Name']))"
      ],
      "metadata": {
        "id": "Cm6bl711QxW5"
      },
      "execution_count": null,
      "outputs": []
    },
    {
      "cell_type": "code",
      "source": [
        "print(type(new_data))"
      ],
      "metadata": {
        "id": "miUKQPc7QWOi"
      },
      "execution_count": null,
      "outputs": []
    },
    {
      "cell_type": "code",
      "source": [
        "new_data.columns = new_data.columns.str.strip()\n"
      ],
      "metadata": {
        "id": "F2Zog_6nTUZG"
      },
      "execution_count": null,
      "outputs": []
    },
    {
      "cell_type": "code",
      "source": [
        "summary = new_data.groupby(['Name', 'Collections']).size().reset_index(name='Count').sort_values(by='Count',ascending=False)\n",
        "summary"
      ],
      "metadata": {
        "id": "KrWIwiE9Td1k"
      },
      "execution_count": null,
      "outputs": []
    },
    {
      "cell_type": "code",
      "source": [
        "summary['Count'].value_counts()"
      ],
      "metadata": {
        "id": "dzBLi81pVoqH"
      },
      "execution_count": null,
      "outputs": []
    },
    {
      "cell_type": "code",
      "source": [
        "import seaborn as sns\n",
        "import matplotlib.pyplot as plt\n",
        "\n",
        "# Sort data\n",
        "top_trending = summary.sort_values(by=\"Count\", ascending=False).head(10)  # Top 10 trending\n",
        "\n",
        "# Plot\n",
        "plt.figure(figsize=(10, 6))\n",
        "sns.barplot(x=\"Count\", y=\"Name\", data=top_trending, palette=\"Blues_r\")\n",
        "plt.xlabel(\"Trending Count\")\n",
        "plt.ylabel(\"Restaurant Name\")\n",
        "plt.title(\"Top Trending Restaurants\")\n",
        "plt.show()\n"
      ],
      "metadata": {
        "id": "IG8tGkftVrty"
      },
      "execution_count": null,
      "outputs": []
    },
    {
      "cell_type": "markdown",
      "source": [
        "##### 1. Why did you pick the specific chart?\n",
        "In order to visualise which restaurant was most trending one."
      ],
      "metadata": {
        "id": "t6dVpIINYklI"
      }
    },
    {
      "cell_type": "markdown",
      "source": [],
      "metadata": {
        "id": "5aaW0BYyYklI"
      }
    },
    {
      "cell_type": "markdown",
      "source": [
        "##### 2. What is/are the insight(s) found from the chart?"
      ],
      "metadata": {
        "id": "ijmpgYnKYklI"
      }
    },
    {
      "cell_type": "markdown",
      "source": [
        "All the restaurants has equal value counts so all these retaurants which are visualized is the chart were on trend for the particular week."
      ],
      "metadata": {
        "id": "PSx9atu2YklI"
      }
    },
    {
      "cell_type": "markdown",
      "source": [
        "#### Chart - 3"
      ],
      "metadata": {
        "id": "EM7whBJCYoAo"
      }
    },
    {
      "cell_type": "code",
      "source": [
        "# Chart - 3 visualization code\n",
        "new_data['Name'] = new_data['Name'].astype(str).str.strip()  # Ensure it's string & remove extra spaces\n",
        "restaurant_counts = new_data['Name'].value_counts().reset_index()\n",
        "restaurant_counts.columns = ['Restaurant', 'Frequency']\n",
        "restaurant_counts\n"
      ],
      "metadata": {
        "id": "t6GMdE67YoAp"
      },
      "execution_count": null,
      "outputs": []
    },
    {
      "cell_type": "code",
      "source": [
        "\n",
        "\n",
        "# Select top 15 most frequent restaurants\n",
        "top_15 = restaurant_counts.head(15)\n",
        "\n",
        "# Plot bar chart\n",
        "plt.figure(figsize=(12, 6))\n",
        "sns.barplot(x=top_15['Frequency'], y=top_15['Restaurant'], palette=\"viridis\")\n",
        "\n",
        "plt.xlabel(\"Number of Occurrences\")\n",
        "plt.ylabel(\"Restaurant Name\")\n",
        "plt.title(\"Top 15 Most Frequent Restaurants\")\n",
        "plt.show()\n"
      ],
      "metadata": {
        "id": "1S5UchnyeGYe"
      },
      "execution_count": null,
      "outputs": []
    },
    {
      "cell_type": "code",
      "source": [
        "top_15"
      ],
      "metadata": {
        "id": "RypYY96RfR7-"
      },
      "execution_count": null,
      "outputs": []
    },
    {
      "cell_type": "markdown",
      "source": [
        "##### 1. Why did you pick the specific chart?"
      ],
      "metadata": {
        "id": "fge-S5ZAYoAp"
      }
    },
    {
      "cell_type": "markdown",
      "source": [
        "In order to analyze the top 15 restaurants in the city."
      ],
      "metadata": {
        "id": "5dBItgRVYoAp"
      }
    },
    {
      "cell_type": "markdown",
      "source": [
        "##### 2. What is/are the insight(s) found from the chart?"
      ],
      "metadata": {
        "id": "85gYPyotYoAp"
      }
    },
    {
      "cell_type": "markdown",
      "source": [
        "The bar chart displays the top 15 most frequent restaurants based on their occurrences in the dataset.\n",
        "Beyond Flavours appears the most, indicating it might be a popular or frequently listed restaurant.\n",
        "The occurrences are fairly uniform, suggesting these restaurants are consistently present in the dataset.\n",
        "Various cuisines and dining types (fine dining, casual, hotels) are represented, highlighting diverse consumer preferences.\n",
        "These insights can help in targeting high-traffic restaurants for marketing, collaborations, or trend analysis."
      ],
      "metadata": {
        "id": "4jstXR6OYoAp"
      }
    },
    {
      "cell_type": "markdown",
      "source": [
        "##### 3. Will the gained insights help creating a positive business impact?\n",
        "Are there any insights that lead to negative growth? Justify with specific reason."
      ],
      "metadata": {
        "id": "RoGjAbkUYoAp"
      }
    },
    {
      "cell_type": "markdown",
      "source": [
        "Restaurants with high occurrences can be prioritized for promotions, partnerships, or premium listings.\n",
        "Understanding consumer preferences helps in tailoring menus, pricing, and marketing strategies.\n",
        "Businesses can use this data to expand high-demand cuisines or improve underperforming locations.\n",
        "Overall, leveraging these insights can enhance customer engagement, increase sales, and boost market presence."
      ],
      "metadata": {
        "id": "zfJ8IqMcYoAp"
      }
    },
    {
      "cell_type": "code",
      "source": [
        "new_data.columns"
      ],
      "metadata": {
        "id": "qmXNBm72hcNj"
      },
      "execution_count": null,
      "outputs": []
    },
    {
      "cell_type": "markdown",
      "source": [
        "#### Chart - 14 - Correlation Heatmap"
      ],
      "metadata": {
        "id": "NC_X3p0fY2L0"
      }
    },
    {
      "cell_type": "markdown",
      "source": [
        "Answer Here"
      ],
      "metadata": {
        "id": "bfSqtnDqZNRR"
      }
    },
    {
      "cell_type": "markdown",
      "source": [
        "## ***5. Hypothesis Testing***"
      ],
      "metadata": {
        "id": "g-ATYxFrGrvw"
      }
    },
    {
      "cell_type": "markdown",
      "source": [
        "### Hypothetical Statement - 1"
      ],
      "metadata": {
        "id": "8yEUt7NnHlrM"
      }
    },
    {
      "cell_type": "code",
      "source": [
        "# Remove rows where \"Rating\" or \"Cost\" contains \"Like\"\n",
        "new = new_data[~new_data[['Rating', 'Cost']].astype(str).apply(lambda x: x.str.contains(\"Like\")).any(axis=1)]\n",
        "\n",
        "# Convert \"Rating\" and \"Cost\" columns to float\n",
        "new[['Rating', 'Cost']] = new_data[['Rating', 'Cost']].astype(float)\n"
      ],
      "metadata": {
        "id": "RYZ4yZD-j33R"
      },
      "execution_count": null,
      "outputs": []
    },
    {
      "cell_type": "markdown",
      "source": [
        "#### 1. State Your research hypothesis as a null hypothesis and alternate hypothesis.\n",
        "Null hypothesis: There is no relationship between the cost of restaurant and the rating it receives. (H0: 𝛽1 = 0)\n",
        "\n",
        "Alternative hypothesis: There is a positive relationship between the cost of a restaurant and the rating it receives. (H1: 𝛽1 > 0)\n",
        "\n",
        "Test : Simple Linear Regression Analysis"
      ],
      "metadata": {
        "id": "tEA2Xm5dHt1r"
      }
    },
    {
      "cell_type": "markdown",
      "source": [
        "#### 2. Perform an appropriate statistical test."
      ],
      "metadata": {
        "id": "I79__PHVH19G"
      }
    },
    {
      "cell_type": "code",
      "source": [
        "# Perform Statistical Test to obtain P-Value\n",
        "import statsmodels.formula.api as smf\n",
        "\n",
        "\n",
        "# fit the linear model\n",
        "model = smf.ols(formula='Rating ~ Cost', data= new).fit()\n",
        "\n",
        "# Check p-value of coefficient\n",
        "p_value = model.pvalues[1]\n",
        "if p_value < 0.05:\n",
        "    print(\"Reject Null Hypothesis - There is no relationship between the cost of\\\n",
        " restaurant and the rating it receives.\")\n",
        "else:\n",
        "    print(\"Fail to reject Null Hypothesis - There is a positive relationship \\\n",
        " between the cost of a restaurant and the rating it receives.\")"
      ],
      "metadata": {
        "id": "oZrfquKtyian"
      },
      "execution_count": null,
      "outputs": []
    },
    {
      "cell_type": "markdown",
      "source": [
        "##### Which statistical test have you done to obtain P-Value?"
      ],
      "metadata": {
        "id": "Ou-I18pAyIpj"
      }
    },
    {
      "cell_type": "markdown",
      "source": [
        "I have used Linear regression test for checking the relationship between the cost of a restaurant and its rating."
      ],
      "metadata": {
        "id": "s2U0kk00ygSB"
      }
    },
    {
      "cell_type": "markdown",
      "source": [
        "##### Why did you choose the specific statistical test?"
      ],
      "metadata": {
        "id": "fF3858GYyt-u"
      }
    },
    {
      "cell_type": "markdown",
      "source": [
        "I chose this test because it is a common and straightforward method for testing the relationship between two continuous variables. This would involve fitting a linear model with the rating as the dependent variable and the cost as the independent variable. The p-value of the coefficient for the cost variable can then be used to determine if there is a statistically significant relationship between the two variable."
      ],
      "metadata": {
        "id": "HO4K0gP5y3B4"
      }
    },
    {
      "cell_type": "markdown",
      "source": [
        "## ***6. Feature Engineering & Data Pre-processing***"
      ],
      "metadata": {
        "id": "yLjJCtPM0KBk"
      }
    },
    {
      "cell_type": "markdown",
      "source": [
        "### 1. Handling Missing Values"
      ],
      "metadata": {
        "id": "xiyOF9F70UgQ"
      }
    },
    {
      "cell_type": "code",
      "source": [
        "# Handling Missing Values & Missing Value Imputation\n",
        "new_data.isnull().sum()"
      ],
      "metadata": {
        "id": "iRsAHk1K0fpS"
      },
      "execution_count": null,
      "outputs": []
    },
    {
      "cell_type": "code",
      "source": [
        "new_data['Timings'].shape"
      ],
      "metadata": {
        "id": "T9QdeGXcu1zQ"
      },
      "execution_count": null,
      "outputs": []
    },
    {
      "cell_type": "markdown",
      "source": [
        "# Feature Engineering"
      ],
      "metadata": {
        "id": "nUD_60lt5TEp"
      }
    },
    {
      "cell_type": "code",
      "source": [
        "data = new_data.copy()"
      ],
      "metadata": {
        "id": "0gZ_bFWwvd3C"
      },
      "execution_count": null,
      "outputs": []
    },
    {
      "cell_type": "markdown",
      "source": [],
      "metadata": {
        "id": "RYslPTky5xY5"
      }
    },
    {
      "cell_type": "markdown",
      "source": [
        "**Using labeling encoding to transform categorical variable to numerical type**"
      ],
      "metadata": {
        "id": "ijLeBHNR5zcL"
      }
    },
    {
      "cell_type": "code",
      "source": [
        "# labeling the columns cuisines and collections by using labelencoder\n",
        "from sklearn.preprocessing import LabelEncoder\n",
        "\n",
        "label_enc = LabelEncoder()\n",
        "data['Cuisines'] = label_enc.fit_transform(data['Cuisines'])\n",
        "data['Collections'] = label_enc.fit_transform(data['Collections'])\n"
      ],
      "metadata": {
        "id": "lzKoh_c_27_2"
      },
      "execution_count": null,
      "outputs": []
    },
    {
      "cell_type": "code",
      "source": [
        "data['Reviewer'] = label_enc.fit_transform(data['Reviewer'])\n",
        "data['Rating'] = label_enc.fit_transform(data['Rating'])\n"
      ],
      "metadata": {
        "id": "BmdJQMekAimQ"
      },
      "execution_count": null,
      "outputs": []
    },
    {
      "cell_type": "code",
      "source": [
        "data['Cuisines']"
      ],
      "metadata": {
        "id": "fKvPCauc3hpq"
      },
      "execution_count": null,
      "outputs": []
    },
    {
      "cell_type": "markdown",
      "source": [
        "**Normalization of variables cost,rating,reviewer**"
      ],
      "metadata": {
        "id": "lOI7HpvA6SUa"
      }
    },
    {
      "cell_type": "code",
      "source": [
        "data.dtypes"
      ],
      "metadata": {
        "id": "oS_6suLT62Yu"
      },
      "execution_count": null,
      "outputs": []
    },
    {
      "cell_type": "code",
      "source": [],
      "metadata": {
        "id": "VC2nXG3X8b5J"
      },
      "execution_count": null,
      "outputs": []
    },
    {
      "cell_type": "code",
      "source": [
        "data['Cost'] = data['Cost'].str.replace(',', '').astype(float)\n"
      ],
      "metadata": {
        "id": "ZY9Bevss95Jg"
      },
      "execution_count": null,
      "outputs": []
    },
    {
      "cell_type": "code",
      "source": [
        "from sklearn.preprocessing import StandardScaler\n",
        "\n",
        "scaler = StandardScaler()\n",
        "data[['Cost', 'Rating', 'Reviewer']] = scaler.fit_transform(data[['Cost', 'Rating', 'Reviewer']])\n"
      ],
      "metadata": {
        "id": "ouX06e1K5Aru"
      },
      "execution_count": null,
      "outputs": []
    },
    {
      "cell_type": "markdown",
      "source": [
        "**Reason for opting standardscalar:**\n",
        "\n",
        "Here I have used standarscalar because cost,rating and reviewer are three different variables which has different measures,so using standardscalar scales there values according to mean and standardeviation where all the three variables are standardised."
      ],
      "metadata": {
        "id": "rb2Lh6Z8BgGs"
      }
    },
    {
      "cell_type": "markdown",
      "source": [
        "## ***7. ML Model Implementation***"
      ],
      "metadata": {
        "id": "VfCC591jGiD4"
      }
    },
    {
      "cell_type": "markdown",
      "source": [
        "### ML Model - 1"
      ],
      "metadata": {
        "id": "OB4l2ZhMeS1U"
      }
    },
    {
      "cell_type": "code",
      "source": [
        "import matplotlib.pyplot as plt\n",
        "from sklearn.cluster import KMeans\n",
        "\n",
        "# Try different values of k\n",
        "inertia = []\n",
        "K = range(1, 11)\n",
        "\n",
        "for k in K:\n",
        "    kmeans = KMeans(n_clusters=k, random_state=42)\n",
        "    kmeans.fit(data[['Cuisines', 'Rating', 'Cost']])\n",
        "    inertia.append(kmeans.inertia_)\n",
        "\n",
        "# Plot Elbow Curve\n",
        "plt.figure(figsize=(8, 5))\n",
        "plt.plot(K, inertia, 'bo-')\n",
        "plt.xlabel(\"Number of Clusters (k)\")\n",
        "plt.ylabel(\"Inertia\")\n",
        "plt.title(\"Elbow Method for Optimal K\")\n",
        "plt.show()\n"
      ],
      "metadata": {
        "id": "-4ZTi4aCY82I"
      },
      "execution_count": null,
      "outputs": []
    },
    {
      "cell_type": "code",
      "source": [
        "from sklearn.cluster import KMeans\n",
        "from yellowbrick.cluster import SilhouetteVisualizer\n",
        "from sklearn.metrics import silhouette_score\n",
        "\n",
        "def silhouette_analysis(n):\n",
        "  for n_clusters in range(2,n):\n",
        "    km = KMeans(n_clusters=n_clusters)\n",
        "    preds = km.fit_predict(data[['Cuisines', 'Rating', 'Cost']])\n",
        "    centers = km.cluster_centers_\n",
        "\n",
        "    score = silhouette_score(data[['Cuisines', 'Rating', 'Cost']], preds, metric='euclidean')\n",
        "    print('For n_clusters = {}, silhouette score is {}'.format(n_clusters, score))\n",
        "\n",
        "    visualizer = SilhouetteVisualizer(km)\n",
        "\n",
        "    visualizer.fit(data[['Cuisines', 'Rating', 'Cost']])\n",
        "    visualizer.poof()"
      ],
      "metadata": {
        "id": "lPqxHnVZbftd"
      },
      "execution_count": null,
      "outputs": []
    },
    {
      "cell_type": "code",
      "source": [
        "silhouette_analysis(8)"
      ],
      "metadata": {
        "id": "tOasURuScMlV"
      },
      "execution_count": null,
      "outputs": []
    },
    {
      "cell_type": "code",
      "source": [
        "data_cluster= data[['Cuisines', 'Rating', 'Cost']]"
      ],
      "metadata": {
        "id": "i8waFaJ4iBu4"
      },
      "execution_count": null,
      "outputs": []
    },
    {
      "cell_type": "markdown",
      "source": [
        "#### 1. Explain the ML Model used and it's performance using Evaluation metric Score Chart."
      ],
      "metadata": {
        "id": "ArJBuiUVfxKd"
      }
    },
    {
      "cell_type": "code",
      "source": [
        "# Visualizing evaluation Metric Score chart\n",
        "optimal_k = 4  # Replace this with the best value from the Elbow Method\n",
        "kmeans = KMeans(n_clusters=optimal_k, random_state=42, n_init=10)\n",
        "data_cluster['Cluster'] = kmeans.fit_predict(data_cluster)\n",
        "\n",
        "# Display first few rows with clusters\n",
        "print(data_cluster.head())\n"
      ],
      "metadata": {
        "id": "rqD5ZohzfxKe"
      },
      "execution_count": null,
      "outputs": []
    },
    {
      "cell_type": "code",
      "source": [
        "plt.figure(figsize=(8, 6))\n",
        "plt.scatter(data_cluster['Cost'], data_cluster['Rating'], c=data_cluster['Cluster'], cmap='viridis', alpha=0.6)\n",
        "plt.xlabel('Cost')\n",
        "plt.ylabel('Rating')\n",
        "plt.title('KMeans Clustering of Restaurants')\n",
        "plt.colorbar(label='Cluster')\n",
        "plt.show()\n"
      ],
      "metadata": {
        "id": "7Z_JA6A9nCDH"
      },
      "execution_count": null,
      "outputs": []
    },
    {
      "cell_type": "code",
      "source": [
        "cluster_summary = data_cluster.groupby('Cluster').agg({'Cost': 'mean', 'Rating': 'mean'}).reset_index()\n",
        "cluster_summary"
      ],
      "metadata": {
        "id": "imPbJ4THr35m"
      },
      "execution_count": null,
      "outputs": []
    },
    {
      "cell_type": "code",
      "source": [
        "cluster_labels = {\n",
        "    0: \"Moderate Cost, low Rating\",\n",
        "    1: \"High Cost, moderate Rating\",\n",
        "    2: \"Low Cost, high Rating\",\n",
        "    3: \"Low Cost, low Rating\"\n",
        "}\n",
        "data_cluster['Cluster_Label'] = data_cluster['Cluster'].map(cluster_labels)\n",
        "\n",
        "# Create scatter plot\n",
        "plt.figure(figsize=(10, 6))\n",
        "scatter = sns.scatterplot(\n",
        "    x=data_cluster['Cost'],\n",
        "    y=data_cluster['Rating'],\n",
        "    hue=data_cluster['Cluster_Label'],\n",
        "    palette='viridis',\n",
        "    alpha=0.7\n",
        ")\n",
        "\n",
        "# Label clusters at their centroid positions\n",
        "for cluster, row in cluster_summary.iterrows():\n",
        "    plt.text(\n",
        "        row['Cost'], row['Rating'],\n",
        "        cluster_labels[cluster], fontsize=12,\n",
        "        bbox=dict(facecolor='white', alpha=0.7),\n",
        "        ha='center'\n",
        "    )\n",
        "\n",
        "plt.title(\"KMeans Clustering of Restaurants\")\n",
        "plt.xlabel(\"Cost\")\n",
        "plt.ylabel(\"Rating\")\n",
        "plt.legend(title=\"Cluster Categories\")\n",
        "plt.show()"
      ],
      "metadata": {
        "id": "r9_aw7M5tdas"
      },
      "execution_count": null,
      "outputs": []
    },
    {
      "cell_type": "markdown",
      "source": [
        "#### Business Insights:"
      ],
      "metadata": {
        "id": "4qY1EAkEfxKe"
      }
    },
    {
      "cell_type": "markdown",
      "source": [
        "Business Insights from Restaurant Clustering Analysis\n",
        "Identifying Budget-Friendly Popular Restaurants\n",
        "\n",
        "**cluster-2** low-cost restaurants with high ratings, indicating customer preference for affordable yet quality dining.\n",
        "Business Strategy: Promote these restaurants through marketing campaigns, emphasizing their affordability and positive reviews.\n",
        "Premium Dining with Moderate Satisfaction\n",
        "\n",
        "**Cluster- 1** consists of high-cost restaurants with moderate ratings, suggesting a need for service or quality improvement.\n",
        "Business Strategy: Gather customer feedback to enhance the dining experience and justify premium pricing.\n",
        "Low-Rated, Low-Cost Restaurants – Need for Improvement\n",
        "\n",
        "**Cluster-3** includes low-cost restaurants with low ratings, which could indicate poor service, hygiene, or food quality.\n",
        "Business Strategy: Conduct quality checks, improve menu offerings, and provide incentives for better customer engagement.\n",
        "Moderate-Cost, Low-Rated Restaurants – Competitive Risk\n",
        "\n",
        "**Cluster-0** represents moderate-cost restaurants with low ratings, possibly struggling to differentiate themselves.\n",
        "Business Strategy: Offer discounts, loyalty programs, or collaborations to enhance their competitive positioning.\n",
        "Strategic Recommendations for Growth\n",
        "\n",
        "Enhance partnerships with top-rated budget-friendly restaurants to drive more traffic.\n",
        "Work with higher-cost restaurants to improve customer satisfaction and justify pricing.\n",
        "Monitor low-rated clusters for necessary business interventions such as menu revamps, better service training, or improved marketing efforts."
      ],
      "metadata": {
        "id": "gecxXw2kvqCN"
      }
    },
    {
      "cell_type": "markdown",
      "source": [
        "### ML Model - 2"
      ],
      "metadata": {
        "id": "dJ2tPlVmpsJ0"
      }
    },
    {
      "cell_type": "markdown",
      "source": [
        "# Hierarchical Clustering"
      ],
      "metadata": {
        "id": "vSj-nMiiI_RF"
      }
    },
    {
      "cell_type": "code",
      "source": [
        "data_cluster.head()"
      ],
      "metadata": {
        "id": "GsDofRSvO8en"
      },
      "execution_count": null,
      "outputs": []
    },
    {
      "cell_type": "code",
      "source": [
        "from scipy.cluster.hierarchy import dendrogram, linkage, fcluster"
      ],
      "metadata": {
        "id": "_J4u2XMGJcLV"
      },
      "execution_count": null,
      "outputs": []
    },
    {
      "cell_type": "code",
      "source": [],
      "metadata": {
        "id": "C7by6-_nO7Xi"
      },
      "execution_count": null,
      "outputs": []
    },
    {
      "cell_type": "code",
      "source": [
        "# Perform hierarchical clustering using Ward's method\n",
        "Z = linkage(data_cluster, method='ward')  # Ward minimizes variance within clusters\n",
        "Z"
      ],
      "metadata": {
        "id": "t2Ipd-j9Ohht"
      },
      "execution_count": null,
      "outputs": []
    },
    {
      "cell_type": "code",
      "source": [
        "plt.figure(figsize=(10, 5))\n",
        "dendrogram(Z, leaf_rotation=90, leaf_font_size=10)\n",
        "plt.title(\"Dendrogram for Hierarchical Clustering\")\n",
        "plt.xlabel(\"Data Points\")\n",
        "plt.ylabel(\"Euclidean Distance\")\n",
        "plt.show()\n"
      ],
      "metadata": {
        "id": "JqbAA4fIPOgw"
      },
      "execution_count": null,
      "outputs": []
    },
    {
      "cell_type": "code",
      "source": [
        "from sklearn.cluster import AgglomerativeClustering\n",
        "\n",
        "range_n_clusters = [2,3,4,5,6,7,8,9,10,11]\n",
        "for n_clusters in range_n_clusters:\n",
        "    hc = AgglomerativeClustering(n_clusters = n_clusters, linkage = 'ward')\n",
        "    y_hc = hc.fit_predict(data_cluster)\n",
        "    score = silhouette_score(data_cluster, y_hc)\n",
        "    print(\"For n_clusters = {}, silhouette score is {}\".format(n_clusters, score))\n",
        ""
      ],
      "metadata": {
        "id": "Wz98PD6JTgWl"
      },
      "execution_count": null,
      "outputs": []
    },
    {
      "cell_type": "code",
      "source": [
        "from sklearn.cluster import AgglomerativeClustering\n",
        "import seaborn as sns\n",
        "\n",
        "# Perform Hierarchical Clustering\n",
        "hc = AgglomerativeClustering(n_clusters=4, linkage='ward')\n",
        "data_cluster['Cluster'] = hc.fit_predict(data_cluster)\n",
        "\n",
        "# Plot clusters\n",
        "plt.figure(figsize=(8, 5))\n",
        "sns.scatterplot(data=data_cluster, x='Cost', y='Rating', hue='Cluster', palette='viridis', s=50)\n",
        "plt.title(\"Hierarchical Clustering of Restaurants\")\n",
        "plt.xlabel(\"Cost\")\n",
        "plt.ylabel(\"Rating\")\n",
        "plt.legend(title=\"Cluster\")\n",
        "plt.show()\n"
      ],
      "metadata": {
        "id": "41QOv38iZKj-"
      },
      "execution_count": null,
      "outputs": []
    },
    {
      "cell_type": "markdown",
      "source": [
        "#### 1. Explain the ML Model used and it's performance using Evaluation metric Score Chart."
      ],
      "metadata": {
        "id": "JWYfwnehpsJ1"
      }
    },
    {
      "cell_type": "code",
      "source": [
        "# Visualizing evaluation Metric Score chart"
      ],
      "metadata": {
        "id": "yEl-hgQWpsJ1"
      },
      "execution_count": null,
      "outputs": []
    },
    {
      "cell_type": "markdown",
      "source": [
        "**Summary of Findings**\n",
        "\n",
        "Using K-Means and Hierarchical Clustering, we categorized restaurants based on key features such as Cuisines, Cost, and Rating. The clusters revealed distinct groups of restaurants that share common characteristics. After analyzing the clusters, we identified four key restaurant categories:\n",
        "\n",
        "1️⃣ Premium Fine Dining (High Cost, High Rating) – High-end restaurants that maintain a strong reputation with excellent reviews.\n",
        "\n",
        "2️⃣ Affordable Popular Restaurants (Low Cost, High Rating) – Budget-friendly eateries that provide high value for money.\n",
        "\n",
        "\n",
        "3️⃣ Mid-Range Casual Dining (Moderate Cost, Moderate Rating) – Restaurants that attract a broad audience but have mixed reviews.\n",
        "\n",
        "4️⃣ Overpriced or Underperforming (High Cost, Low Rating) – Restaurants that charge premium prices but do not meet customer expectations."
      ],
      "metadata": {
        "id": "pftnhtXdmi9N"
      }
    },
    {
      "cell_type": "markdown",
      "source": [
        "Business Use Cases\n",
        "\n",
        "📌 1. Customer Segmentation & Targeted Marketing\n",
        "\n",
        "Use clustering insights to identify key customer segments and create personalized promotions.\n",
        "Offer discounts for underperforming high-cost restaurants to improve customer engagement.\n",
        "\n",
        "📌 2. Pricing & Revenue Optimization\n",
        "\n",
        "Adjust pricing strategies based on the cost and rating of competitors within the same cluster.\n",
        "Identify restaurants with high cost but low ratings and suggest improvements in service or menu.\n",
        "📌 3. Expansion & Location Strategy\n",
        "\n",
        "Determine gaps in the market by analyzing clusters where certain types of restaurants are missing.\n",
        "Expand popular, budget-friendly restaurants in areas where demand is high.\n",
        "\n",
        "📌 4. Operational Improvements\n",
        "\n",
        "Restaurants with low ratings but high prices can focus on enhancing food quality, service, or ambiance.\n",
        "High-rated budget restaurants can scale operations while maintaining cost efficiency.\n",
        "\n",
        "📌 5. Customer Experience Enhancement\n",
        "\n",
        "Develop a recommendation system that suggests restaurants to customers based on their preferences.\n",
        "Improve restaurant offerings based on the feedback and behavior of different clusters.\n",
        "Final Thoughts\n",
        "This clustering analysis provides actionable business insights that help restaurant owners and food delivery platforms make data-driven decisions. Whether it's improving customer satisfaction, optimizing pricing, or expanding strategically, these insights ensure that restaurants stay competitive in the market."
      ],
      "metadata": {
        "id": "K4J4hlufm0RF"
      }
    },
    {
      "cell_type": "markdown",
      "source": [
        "#### 2. Cross- Validation & Hyperparameter Tuning"
      ],
      "metadata": {
        "id": "-jK_YjpMpsJ2"
      }
    },
    {
      "cell_type": "code",
      "source": [
        "# ML Model - 1 Implementation with hyperparameter optimization techniques (i.e., GridSearch CV, RandomSearch CV, Bayesian Optimization etc.)\n",
        "\n",
        "# Fit the Algorithm\n",
        "\n",
        "# Predict on the model"
      ],
      "metadata": {
        "id": "Dn0EOfS6psJ2"
      },
      "execution_count": null,
      "outputs": []
    },
    {
      "cell_type": "markdown",
      "source": [
        "##### Which hyperparameter optimization technique have you used and why?"
      ],
      "metadata": {
        "id": "HAih1iBOpsJ2"
      }
    },
    {
      "cell_type": "markdown",
      "source": [
        "Answer Here."
      ],
      "metadata": {
        "id": "9kBgjYcdpsJ2"
      }
    },
    {
      "cell_type": "markdown",
      "source": [
        "##### Have you seen any improvement? Note down the improvement with updates Evaluation metric Score Chart."
      ],
      "metadata": {
        "id": "zVGeBEFhpsJ2"
      }
    },
    {
      "cell_type": "markdown",
      "source": [
        "Answer Here."
      ],
      "metadata": {
        "id": "74yRdG6UpsJ3"
      }
    },
    {
      "cell_type": "markdown",
      "source": [
        "#### 3. Explain each evaluation metric's indication towards business and the business impact pf the ML model used."
      ],
      "metadata": {
        "id": "bmKjuQ-FpsJ3"
      }
    },
    {
      "cell_type": "markdown",
      "source": [
        "Answer Here."
      ],
      "metadata": {
        "id": "BDKtOrBQpsJ3"
      }
    },
    {
      "cell_type": "markdown",
      "source": [
        "### ML Model - 3"
      ],
      "metadata": {
        "id": "Fze-IPXLpx6K"
      }
    },
    {
      "cell_type": "code",
      "source": [
        "# ML Model - 3 Implementation\n",
        "\n",
        "# Fit the Algorithm\n",
        "\n",
        "# Predict on the model"
      ],
      "metadata": {
        "id": "FFrSXAtrpx6M"
      },
      "execution_count": null,
      "outputs": []
    },
    {
      "cell_type": "markdown",
      "source": [
        "#### 1. Explain the ML Model used and it's performance using Evaluation metric Score Chart."
      ],
      "metadata": {
        "id": "7AN1z2sKpx6M"
      }
    },
    {
      "cell_type": "code",
      "source": [
        "# Visualizing evaluation Metric Score chart"
      ],
      "metadata": {
        "id": "xIY4lxxGpx6M"
      },
      "execution_count": null,
      "outputs": []
    },
    {
      "cell_type": "markdown",
      "source": [
        "#### 2. Cross- Validation & Hyperparameter Tuning"
      ],
      "metadata": {
        "id": "9PIHJqyupx6M"
      }
    },
    {
      "cell_type": "code",
      "source": [
        "# ML Model - 3 Implementation with hyperparameter optimization techniques (i.e., GridSearch CV, RandomSearch CV, Bayesian Optimization etc.)\n",
        "\n",
        "# Fit the Algorithm\n",
        "\n",
        "# Predict on the model"
      ],
      "metadata": {
        "id": "eSVXuaSKpx6M"
      },
      "execution_count": null,
      "outputs": []
    },
    {
      "cell_type": "markdown",
      "source": [
        "##### Which hyperparameter optimization technique have you used and why?"
      ],
      "metadata": {
        "id": "_-qAgymDpx6N"
      }
    },
    {
      "cell_type": "markdown",
      "source": [
        "Answer Here."
      ],
      "metadata": {
        "id": "lQMffxkwpx6N"
      }
    },
    {
      "cell_type": "markdown",
      "source": [
        "##### Have you seen any improvement? Note down the improvement with updates Evaluation metric Score Chart."
      ],
      "metadata": {
        "id": "Z-hykwinpx6N"
      }
    },
    {
      "cell_type": "markdown",
      "source": [
        "Answer Here."
      ],
      "metadata": {
        "id": "MzVzZC6opx6N"
      }
    },
    {
      "cell_type": "markdown",
      "source": [
        "### 1. Which Evaluation metrics did you consider for a positive business impact and why?"
      ],
      "metadata": {
        "id": "h_CCil-SKHpo"
      }
    },
    {
      "cell_type": "markdown",
      "source": [
        "Answer Here."
      ],
      "metadata": {
        "id": "jHVz9hHDKFms"
      }
    },
    {
      "cell_type": "markdown",
      "source": [
        "### 2. Which ML model did you choose from the above created models as your final prediction model and why?"
      ],
      "metadata": {
        "id": "cBFFvTBNJzUa"
      }
    },
    {
      "cell_type": "markdown",
      "source": [
        "Answer Here."
      ],
      "metadata": {
        "id": "6ksF5Q1LKTVm"
      }
    },
    {
      "cell_type": "markdown",
      "source": [
        "### 3. Explain the model which you have used and the feature importance using any model explainability tool?"
      ],
      "metadata": {
        "id": "HvGl1hHyA_VK"
      }
    },
    {
      "cell_type": "markdown",
      "source": [
        "Answer Here."
      ],
      "metadata": {
        "id": "YnvVTiIxBL-C"
      }
    },
    {
      "cell_type": "markdown",
      "source": [
        "## ***8.*** ***Future Work (Optional)***"
      ],
      "metadata": {
        "id": "EyNgTHvd2WFk"
      }
    },
    {
      "cell_type": "markdown",
      "source": [
        "### 1. Save the best performing ml model in a pickle file or joblib file format for deployment process.\n"
      ],
      "metadata": {
        "id": "KH5McJBi2d8v"
      }
    },
    {
      "cell_type": "code",
      "source": [
        "# Save the File"
      ],
      "metadata": {
        "id": "bQIANRl32f4J"
      },
      "execution_count": null,
      "outputs": []
    },
    {
      "cell_type": "markdown",
      "source": [
        "### 2. Again Load the saved model file and try to predict unseen data for a sanity check.\n"
      ],
      "metadata": {
        "id": "iW_Lq9qf2h6X"
      }
    },
    {
      "cell_type": "code",
      "source": [
        "# Load the File and predict unseen data."
      ],
      "metadata": {
        "id": "oEXk9ydD2nVC"
      },
      "execution_count": null,
      "outputs": []
    },
    {
      "cell_type": "markdown",
      "source": [
        "### ***Congrats! Your model is successfully created and ready for deployment on a live server for a real user interaction !!!***"
      ],
      "metadata": {
        "id": "-Kee-DAl2viO"
      }
    },
    {
      "cell_type": "markdown",
      "source": [
        "# **Conclusion**"
      ],
      "metadata": {
        "id": "gCX9965dhzqZ"
      }
    },
    {
      "cell_type": "markdown",
      "source": [
        "Write the conclusion here."
      ],
      "metadata": {
        "id": "Fjb1IsQkh3yE"
      }
    },
    {
      "cell_type": "markdown",
      "source": [
        "### ***Hurrah! You have successfully completed your Machine Learning Capstone Project !!!***"
      ],
      "metadata": {
        "id": "gIfDvo9L0UH2"
      }
    }
  ]
}